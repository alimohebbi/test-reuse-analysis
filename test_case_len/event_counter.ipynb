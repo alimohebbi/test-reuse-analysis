{
 "cells": [
  {
   "cell_type": "code",
   "execution_count": 24,
   "metadata": {
    "collapsed": true
   },
   "outputs": [],
   "source": [
    "from os import listdir\n",
    "\n",
    "import pandas as pd\n",
    "import yaml\n",
    "\n",
    "with open(r'../config.yaml') as file:\n",
    "    config = yaml.safe_load(file)\n",
    "\n",
    "\n",
    "def type_based_event_count(test_case_df: pd.DataFrame, name):\n",
    "    counter = {}\n",
    "    counter['mig_name'] = name.split('.')[0]\n",
    "    counter['all'] = test_case_df.shape[0]\n",
    "    counter['gui'] = test_case_df[test_case_df['event_type'] == 'gui'].shape[0]\n",
    "    counter['oracles'] = test_case_df[test_case_df['event_type'] == 'oracle'].shape[0]\n",
    "    counter['sys'] = test_case_df[test_case_df['event_type'] == 'SYS_EVENT'].shape[0]\n",
    "    return counter\n"
   ]
  },
  {
   "cell_type": "code",
   "execution_count": 25,
   "outputs": [],
   "source": [
    "atm_tests = [f for f in listdir(config['atm_gt']) if 'json' in f and '-' not in f]\n",
    "craft_tests = [f for f in listdir(config['craft_gt']) if 'json' in f]\n",
    "\n",
    "all_test_len = []\n",
    "\n",
    "for f in atm_tests:\n",
    "    test_case = pd.read_json(config['atm_gt']+f)\n",
    "    count_dict = type_based_event_count(test_case, f)\n",
    "    all_test_len.append(count_dict)\n",
    "\n",
    "for f in craft_tests:\n",
    "    test_case = pd.read_json(config['craft_gt']+f)\n",
    "    count_dict = type_based_event_count(test_case, f)\n",
    "    all_test_len.append(count_dict)\n",
    "\n",
    "\n",
    "src_len_df = pd.DataFrame(all_test_len)\n",
    "src_len_df.to_csv('src_test_len.csv', index=False)\n",
    "src_len_df.describe().to_csv('src_test_len_stat.csv')"
   ],
   "metadata": {
    "collapsed": false,
    "pycharm": {
     "name": "#%%\n"
    }
   }
  },
  {
   "cell_type": "code",
   "execution_count": 26,
   "outputs": [],
   "source": [
    "atm_tests = [f for f in listdir(config['atm_gt']) if 'json' in f and '-'  in f]\n",
    "atm_test_len = []\n",
    "\n",
    "for f in atm_tests:\n",
    "    test_case = pd.read_json(config['atm_gt']+f)\n",
    "    count_dict = type_based_event_count(test_case, f)\n",
    "    atm_test_len.append(count_dict)\n",
    "\n",
    "target_len_df = pd.DataFrame(atm_test_len)\n",
    "target_len_df.to_csv('target_test_len.csv', index=False)\n",
    "target_len_df.describe().to_csv('target_test_len_stat.csv')"
   ],
   "metadata": {
    "collapsed": false,
    "pycharm": {
     "name": "#%%\n"
    }
   }
  }
 ],
 "metadata": {
  "kernelspec": {
   "display_name": "Python 3",
   "language": "python",
   "name": "python3"
  },
  "language_info": {
   "codemirror_mode": {
    "name": "ipython",
    "version": 2
   },
   "file_extension": ".py",
   "mimetype": "text/x-python",
   "name": "python",
   "nbconvert_exporter": "python",
   "pygments_lexer": "ipython2",
   "version": "2.7.6"
  }
 },
 "nbformat": 4,
 "nbformat_minor": 0
}