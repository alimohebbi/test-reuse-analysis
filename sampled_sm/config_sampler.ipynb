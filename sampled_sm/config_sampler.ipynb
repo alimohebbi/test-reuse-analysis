{
 "cells": [
  {
   "cell_type": "code",
   "execution_count": 1,
   "metadata": {
    "collapsed": true
   },
   "outputs": [],
   "source": [
    "import pandas as pd\n",
    "from pandas import read_csv\n",
    "\n",
    "from utils.configuration import Configuration\n",
    "\n",
    "config = Configuration()"
   ]
  },
  {
   "cell_type": "code",
   "execution_count": 2,
   "outputs": [],
   "source": [
    "configs_mrr = pd.read_csv('../' + config.analyse_dir + '/mrr_with_adapt.csv')\n",
    "configs_mrr.sort_values(by = ['MRR'], ascending=False, inplace=True)\n"
   ],
   "metadata": {
    "collapsed": false,
    "pycharm": {
     "name": "#%%\n"
    }
   }
  },
  {
   "cell_type": "code",
   "execution_count": 3,
   "outputs": [],
   "source": [
    "def standard_expand(row):\n",
    "    if row['training_set'] == 'standard':\n",
    "        return row['training_set'] +'*'+ row['word_embedding']\n",
    "    return row['training_set']\n",
    "\n",
    "def change_columns_order(df):\n",
    "    cols = df.columns.tolist()\n",
    "    cols = cols[-1:] + cols[:-1]\n",
    "    return df[cols]\n",
    "\n",
    "def coverage_finder(configs_mrr):\n",
    "    covers = []\n",
    "    for i in range(15):\n",
    "        sample_config = configs_mrr.iloc[::i+1].copy()\n",
    "        step = sample_config.agg(['nunique'])\n",
    "        step['step'] = i+1\n",
    "        covers.append(step)\n",
    "    coverage = pd.concat(covers).reset_index(drop=True).sort_values(by = ['step'], ascending=True)\n",
    "    coverage.rename(columns={'MRR':'n_config'}, inplace=True)\n",
    "    return change_columns_order(coverage)"
   ],
   "metadata": {
    "collapsed": false,
    "pycharm": {
     "name": "#%%\n"
    }
   }
  },
  {
   "cell_type": "code",
   "execution_count": 4,
   "outputs": [],
   "source": [
    "\n",
    "coverage = coverage_finder(configs_mrr)\n",
    "coverage.to_csv('../' + config.analyse_dir + '/config_sample_stats.csv', index=False)\n",
    "standard_expanded = configs_mrr.copy()\n",
    "standard_expanded['training_set'] = configs_mrr.apply(standard_expand, axis=1)\n",
    "coverage_standard = coverage_finder(standard_expanded)\n",
    "coverage_standard.to_csv('../' + config.analyse_dir + '/config_sample_expanded_stats.csv', index=False)"
   ],
   "metadata": {
    "collapsed": false,
    "pycharm": {
     "name": "#%%\n"
    }
   }
  },
  {
   "cell_type": "code",
   "execution_count": 5,
   "outputs": [],
   "source": [
    "configs_mrr.iloc[::5].to_csv('../' + config.analyse_dir + '/config_sample.csv', index=False)"
   ],
   "metadata": {
    "collapsed": false,
    "pycharm": {
     "name": "#%%\n"
    }
   }
  },
  {
   "cell_type": "code",
   "execution_count": 6,
   "outputs": [],
   "source": [
    "configs_all = read_csv('../' + config.analyse_dir + '/mrr.csv').drop(columns=['top1'])\n",
    "configs_sample = read_csv('../' + config.analyse_dir + '/config_sample.csv')\n",
    "\n",
    "pd.concat([configs_all,configs_sample]).drop_duplicates(keep=False).to_csv('../' + config.analyse_dir + '/config_sample_new.csv', index=False)"
   ],
   "metadata": {
    "collapsed": false,
    "pycharm": {
     "name": "#%% Subteract configs\n"
    }
   }
  }
 ],
 "metadata": {
  "kernelspec": {
   "display_name": "Python 3",
   "language": "python",
   "name": "python3"
  },
  "language_info": {
   "codemirror_mode": {
    "name": "ipython",
    "version": 2
   },
   "file_extension": ".py",
   "mimetype": "text/x-python",
   "name": "python",
   "nbconvert_exporter": "python",
   "pygments_lexer": "ipython2",
   "version": "2.7.6"
  }
 },
 "nbformat": 4,
 "nbformat_minor": 0
}