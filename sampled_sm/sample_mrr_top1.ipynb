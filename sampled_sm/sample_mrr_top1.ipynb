{
 "cells": [
  {
   "cell_type": "code",
   "execution_count": 5,
   "metadata": {
    "collapsed": true
   },
   "outputs": [
    {
     "data": {
      "text/plain": "             MRR       top1\ncount  68.000000  68.000000\nmean    0.686869   0.510822\nstd     0.050182   0.060521\nmin     0.558477   0.397626\n25%     0.649801   0.464392\n50%     0.694068   0.511869\n75%     0.724383   0.540801\nmax     0.795891   0.670623",
      "text/html": "<div>\n<style scoped>\n    .dataframe tbody tr th:only-of-type {\n        vertical-align: middle;\n    }\n\n    .dataframe tbody tr th {\n        vertical-align: top;\n    }\n\n    .dataframe thead th {\n        text-align: right;\n    }\n</style>\n<table border=\"1\" class=\"dataframe\">\n  <thead>\n    <tr style=\"text-align: right;\">\n      <th></th>\n      <th>MRR</th>\n      <th>top1</th>\n    </tr>\n  </thead>\n  <tbody>\n    <tr>\n      <th>count</th>\n      <td>68.000000</td>\n      <td>68.000000</td>\n    </tr>\n    <tr>\n      <th>mean</th>\n      <td>0.686869</td>\n      <td>0.510822</td>\n    </tr>\n    <tr>\n      <th>std</th>\n      <td>0.050182</td>\n      <td>0.060521</td>\n    </tr>\n    <tr>\n      <th>min</th>\n      <td>0.558477</td>\n      <td>0.397626</td>\n    </tr>\n    <tr>\n      <th>25%</th>\n      <td>0.649801</td>\n      <td>0.464392</td>\n    </tr>\n    <tr>\n      <th>50%</th>\n      <td>0.694068</td>\n      <td>0.511869</td>\n    </tr>\n    <tr>\n      <th>75%</th>\n      <td>0.724383</td>\n      <td>0.540801</td>\n    </tr>\n    <tr>\n      <th>max</th>\n      <td>0.795891</td>\n      <td>0.670623</td>\n    </tr>\n  </tbody>\n</table>\n</div>"
     },
     "execution_count": 5,
     "metadata": {},
     "output_type": "execute_result"
    }
   ],
   "source": [
    "### This scripted used to create sample of configs. Then we can use the output to create plots and table of impact and effectiveness\n",
    "import pandas as pd\n",
    "import yaml\n",
    "\n",
    "from util import make_df_plot_friendly\n",
    "\n",
    "with open(r'../config.yaml') as file:\n",
    "    config = yaml.safe_load(file)\n",
    "\n",
    "\n",
    "\n",
    "# sampled_configs = pd.read_csv('converted.csv')\n",
    "#\n",
    "# for i in ['latest_all.csv', 'latest_atm.csv', 'latest_craftdroid.csv']:\n",
    "#     results = pd.read_csv(config['semantic_matching_results'] + i)\n",
    "#     results_refined = make_df_plot_friendly(results)\n",
    "#     results_sampled = results_refined.merge(sampled_configs, on = ['training_set','word_embedding','descriptors','algorithm'])\n",
    "#     new_name = i.replace('latest', 'latest_sampled')\n",
    "#     results_sampled.to_csv(new_name, index=False)\n",
    "\n",
    "sampled = pd.read_csv('latest_sampled_all.csv')\n",
    "sampled['top1'] = sampled['top1'] / 337\n",
    "sampled[['MRR','top1']].describe()"
   ]
  }
 ],
 "metadata": {
  "kernelspec": {
   "display_name": "Python 3",
   "language": "python",
   "name": "python3"
  },
  "language_info": {
   "codemirror_mode": {
    "name": "ipython",
    "version": 2
   },
   "file_extension": ".py",
   "mimetype": "text/x-python",
   "name": "python",
   "nbconvert_exporter": "python",
   "pygments_lexer": "ipython2",
   "version": "2.7.6"
  }
 },
 "nbformat": 4,
 "nbformat_minor": 0
}