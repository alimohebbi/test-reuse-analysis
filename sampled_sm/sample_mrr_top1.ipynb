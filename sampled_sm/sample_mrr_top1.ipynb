{
 "cells": [
  {
   "cell_type": "code",
   "execution_count": 24,
   "metadata": {
    "collapsed": true
   },
   "outputs": [],
   "source": [
    "### This scripted used to create sample of configs. Then we can use the output to create plots and table of impact and effectiveness\n",
    "import pandas as pd\n",
    "\n",
    "def make_df_plot_friendly(df):\n",
    "    if 'MRR' not in df.columns:\n",
    "        return df\n",
    "    df = df.drop(columns=['top2', 'top3', 'top4', 'top5', 'time', 'zeros'])\n",
    "    df = df[['training_set', 'word_embedding', 'descriptors', 'algorithm', 'MRR', 'top1']]\n",
    "    df = df.replace(['custom'], 'semfinder_a')\n",
    "    df = df.replace(['edit_distance'], 'es')\n",
    "    df = df.replace(['jaccard'], 'js')\n",
    "    df = df.replace(['atm'], 'atm_d')\n",
    "    df = df.replace(['adaptdroid_0'], 'adaptdroid_a')\n",
    "    df = df.replace(['adaptdroid'], 'adaptdroid_d')\n",
    "    df = df.replace(['atm_0'], 'atm_a')\n",
    "    df = df.replace(['android'], 'manuals')\n",
    "    df = df.replace('hierarchy', 'h', regex=True)\n",
    "    df['algorithm'] = df['algorithm'].replace(['craftdroid'], 'craftdroid_a')\n",
    "    df['descriptors'] = df['descriptors'].replace(['craftdroid'], 'craftdroid_d')\n",
    "    return df\n",
    "\n",
    "sampled_configs = pd.read_csv('converted.csv')\n",
    "\n",
    "for i in ['latest_all.csv', 'latest_atm.csv', 'latest_craft.csv']:\n",
    "    results = pd.read_csv(i)\n",
    "    results_refined = make_df_plot_friendly(results)\n",
    "    results_sampled = results_refined.merge(sampled_configs, on = ['training_set','word_embedding','descriptors','algorithm'])\n",
    "    new_name = i.replace('latest', 'latest_sampled')\n",
    "    results_sampled.to_csv(new_name, index=False)"
   ]
  }
 ],
 "metadata": {
  "kernelspec": {
   "display_name": "Python 3",
   "language": "python",
   "name": "python3"
  },
  "language_info": {
   "codemirror_mode": {
    "name": "ipython",
    "version": 2
   },
   "file_extension": ".py",
   "mimetype": "text/x-python",
   "name": "python",
   "nbconvert_exporter": "python",
   "pygments_lexer": "ipython2",
   "version": "2.7.6"
  }
 },
 "nbformat": 4,
 "nbformat_minor": 0
}