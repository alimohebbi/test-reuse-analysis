{
 "cells": [
  {
   "cell_type": "code",
   "execution_count": 5,
   "metadata": {
    "collapsed": true
   },
   "outputs": [],
   "source": [
    "### This scripted used to create sample of configs. Then we can use the output to create plots and table of impact and effectiveness\n",
    "import pandas as pd\n",
    "import yaml\n",
    "\n",
    "from util import make_df_plot_friendly\n",
    "\n",
    "with open(r'../config.yaml') as file:\n",
    "    config = yaml.safe_load(file)\n",
    "\n",
    "\n",
    "\n",
    "sampled_configs = pd.read_csv('converted.csv')\n",
    "\n",
    "for i in ['latest_all.csv', 'latest_atm.csv', 'latest_craftdroid.csv']:\n",
    "    results = pd.read_csv(config['semantic_matching_results'] + i)\n",
    "    results_refined = make_df_plot_friendly(results)\n",
    "    results_sampled = results_refined.merge(sampled_configs, on = ['training_set','word_embedding','descriptors','algorithm'])\n",
    "    new_name = i.replace('latest', 'latest_sampled')\n",
    "    results_sampled.to_csv(new_name, index=False)"
   ]
  }
 ],
 "metadata": {
  "kernelspec": {
   "display_name": "Python 3",
   "language": "python",
   "name": "python3"
  },
  "language_info": {
   "codemirror_mode": {
    "name": "ipython",
    "version": 2
   },
   "file_extension": ".py",
   "mimetype": "text/x-python",
   "name": "python",
   "nbconvert_exporter": "python",
   "pygments_lexer": "ipython2",
   "version": "2.7.6"
  }
 },
 "nbformat": 4,
 "nbformat_minor": 0
}